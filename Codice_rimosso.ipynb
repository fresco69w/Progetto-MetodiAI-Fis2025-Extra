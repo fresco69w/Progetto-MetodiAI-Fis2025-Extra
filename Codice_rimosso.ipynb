{
  "nbformat": 4,
  "nbformat_minor": 0,
  "metadata": {
    "colab": {
      "provenance": []
    },
    "kernelspec": {
      "name": "python3",
      "display_name": "Python 3"
    },
    "language_info": {
      "name": "python"
    }
  },
  "cells": [
    {
      "cell_type": "markdown",
      "source": [
        "# Ottimizzazione con Optuna"
      ],
      "metadata": {
        "id": "62mRRrLB1BE5"
      }
    },
    {
      "cell_type": "code",
      "source": [
        "!pip install optuna\n",
        "import optuna\n",
        "import joblib #per salvare lo studio in caso colab mi scollegasse"
      ],
      "metadata": {
        "id": "AhU_QtGG1LPJ"
      },
      "execution_count": null,
      "outputs": []
    },
    {
      "cell_type": "code",
      "source": [
        "def objective(trial,train_ldr,val_ldr):\n",
        "    learning_rate = trial.suggest_float('learning_rate', 1e-6, 1e-2,log=True)\n",
        "    weight_decay = trial.suggest_float('weight_decay', 1e-9, 1e-4,log=True)\n",
        "    channels = trial.suggest_int('channels',2,24)\n",
        "\n",
        "    scaler = torch.amp.GradScaler() #uso di float16 invece che float32 per velocizzare il training. Nonostante sia molto semplice come modello (ed essendo i risparmi quasi nulli), dovendo runnare 200 volte il training, ogni ottimizzazione aiuta\n",
        "    model = CAE(channels).to(device)\n",
        "    criterion = nn.MSELoss()\n",
        "    optimizer = optim.Adam(model.parameters(), lr=learning_rate, weight_decay=weight_decay)\n",
        "    scheduler = ReduceLROnPlateau(optimizer, mode='max', factor=0.1, patience=10, threshold=0.0001)\n",
        "\n",
        "    patience=30\n",
        "    val_loss = []\n",
        "    train_loss = []\n",
        "    best_val_loss = float('inf')\n",
        "    epochs_no_improve = 0\n",
        "    epochs=300\n",
        "\n",
        "    for epoch in range(epochs):\n",
        "        #train\n",
        "        model.train()\n",
        "        running_loss = 0.0\n",
        "        for data in train_ldr:\n",
        "            inputs = data[0].to(device)\n",
        "            optimizer.zero_grad()\n",
        "            with torch.amp.autocast(device_type='cuda'): #f16\n",
        "                outputs = model(inputs)\n",
        "                loss = criterion(outputs, inputs)\n",
        "            scaler.scale(loss).backward()\n",
        "            scaler.step(optimizer)\n",
        "            scaler.update()\n",
        "            running_loss += loss.item() * inputs.size(0)\n",
        "\n",
        "        epoch_loss = running_loss / len(train_ldr.dataset)\n",
        "        train_loss.append(epoch_loss)\n",
        "\n",
        "        #validation\n",
        "        model.eval()\n",
        "        val_loss_running = 0.0\n",
        "        with torch.no_grad():\n",
        "            for data in val_ldr:\n",
        "                inputs = data[0].to(device)\n",
        "                outputs = model(inputs)\n",
        "\n",
        "                loss = criterion(outputs, inputs)\n",
        "                val_loss_running += loss.item() * inputs.size(0)\n",
        "\n",
        "        val_epoch_loss = val_loss_running / len(val_ldr.dataset)\n",
        "        val_loss.append(val_epoch_loss)\n",
        "        current_lr = optimizer.param_groups[0]['lr']\n",
        "\n",
        "        #early stopping\n",
        "        if val_epoch_loss < best_val_loss:\n",
        "            best_val_loss = val_epoch_loss\n",
        "            epochs_no_improve = 0\n",
        "        else:\n",
        "            epochs_no_improve += 1\n",
        "            if epochs_no_improve == patience:\n",
        "                print(f'Early stopping after {patience} epochs without improvement.')\n",
        "                break\n",
        "\n",
        "        scheduler.step(val_epoch_loss)\n",
        "\n",
        "        #pruning del trial\n",
        "        trial.report(val_epoch_loss, epoch)\n",
        "        if trial.should_prune():\n",
        "            raise optuna.TrialPruned()\n",
        "    return val_epoch_loss\n",
        "study = optuna.create_study(directions=['minimize']) #minimizzo loss di validazione"
      ],
      "metadata": {
        "id": "HYwwQb1k5HQT"
      },
      "execution_count": null,
      "outputs": []
    },
    {
      "cell_type": "code",
      "source": [
        "for i in range(100):\n",
        "  study.optimize(lambda trial: objective(trial, train_ldr,val_ldr,pos_weight),n_trials=1)\n",
        "  joblib.dump(study, f\"MSE_1conv_{i}.pkl\")"
      ],
      "metadata": {
        "id": "CadujrKe3-cl"
      },
      "execution_count": null,
      "outputs": []
    },
    {
      "cell_type": "markdown",
      "source": [
        "# Calcolo media e std delle frazioni di eventi anomali"
      ],
      "metadata": {
        "id": "LSOYybez5AHz"
      }
    },
    {
      "cell_type": "code",
      "source": [
        "def trainEvaluate(train_data, validation_data, test_l_data, test_h_data, batch_size, epochs, learning_rate, weight_decay, seed):\n",
        "\n",
        "    np.random.seed(seed)\n",
        "    torch.manual_seed(seed)\n",
        "    if torch.cuda.is_available():\n",
        "        torch.cuda.manual_seed(seed)\n",
        "        torch.backends.cudnn.deterministic = True\n",
        "        torch.backends.cudnn.benchmark = False\n",
        "\n",
        "    train_ldr, val_ldr, val_ldr_1b, test_h_ldr, test_l_ldr = createDataloaders(train_data, validation_data, test_h_data, test_l_data, batch_size)\n",
        "\n",
        "    model = CAE(4).to(device)\n",
        "    criterion = nn.MSELoss()\n",
        "    optimizer = optim.Adam(model.parameters(), lr=learning_rate, weight_decay=weight_decay)\n",
        "    scheduler = ReduceLROnPlateau(optimizer, mode='min', factor=0.1, patience=10, threshold=0.0001)\n",
        "\n",
        "    best_val_loss = float('inf')\n",
        "    epochs_no_improve = 0\n",
        "    patience = 30\n",
        "\n",
        "    for epoch in range(epochs):\n",
        "        model.train()\n",
        "        running_loss = 0.0\n",
        "        for data in train_ldr:\n",
        "            inputs = data[0].to(device)\n",
        "            optimizer.zero_grad()\n",
        "            outputs = model(inputs)\n",
        "            loss = criterion(outputs, inputs)\n",
        "            loss.backward()\n",
        "            optimizer.step()\n",
        "            running_loss += loss.item() * inputs.size(0)\n",
        "\n",
        "        model.eval()\n",
        "        val_loss = 0.0\n",
        "        with torch.no_grad():\n",
        "            for data in val_ldr:\n",
        "                inputs = data[0].to(device)\n",
        "                outputs = model(inputs)\n",
        "                loss = criterion(outputs, inputs)\n",
        "                val_loss += loss.item() * inputs.size(0)\n",
        "\n",
        "        val_epoch_loss = val_loss / len(val_ldr.dataset)\n",
        "\n",
        "        if val_epoch_loss < best_val_loss:\n",
        "            best_val_loss = val_epoch_loss\n",
        "            epochs_no_improve = 0\n",
        "        else:\n",
        "            epochs_no_improve += 1\n",
        "            if epochs_no_improve == patience:\n",
        "                break\n",
        "        scheduler.step(val_epoch_loss)\n",
        "\n",
        "    reconstruction_criterion = nn.MSELoss()\n",
        "    recon_err_val = calculateReconstructionErrors(val_ldr_1b, model, reconstruction_criterion, device)\n",
        "    recon_err_l = calculateReconstructionErrors(test_l_ldr, model, reconstruction_criterion, device)\n",
        "    recon_err_h = calculateReconstructionErrors(test_h_ldr, model, reconstruction_criterion, device)\n",
        "\n",
        "    scaler = MaxAbsScaler()\n",
        "    scaler.fit(recon_err_val.reshape(-1, 1))\n",
        "    norm_err_val = scaler.transform(recon_err_val.reshape(-1, 1))\n",
        "    norm_err_l = scaler.transform(recon_err_l.reshape(-1, 1))\n",
        "    norm_err_h = scaler.transform(recon_err_h.reshape(-1, 1))\n",
        "\n",
        "    anomaly_threshold = np.percentile(norm_err_val, 90)\n",
        "\n",
        "    labels_l = (norm_err_l > anomaly_threshold).astype(int)\n",
        "    labels_h = (norm_err_h > anomaly_threshold).astype(int)\n",
        "\n",
        "    f_anomal_l = np.sum(labels_l) / len(labels_l)\n",
        "    f_anomal_h = np.sum(labels_h) / len(labels_h)\n",
        "\n",
        "    return f_anomal_l, f_anomal_h"
      ],
      "metadata": {
        "id": "E_o6ocC1zjMa"
      },
      "execution_count": null,
      "outputs": []
    },
    {
      "cell_type": "code",
      "source": [
        "num_runs = 10\n",
        "estimated_fractions_l = []\n",
        "estimated_fractions_h = []\n",
        "\n",
        "train_data_orig = np.copy(train)\n",
        "validation_data_orig = np.copy(validation)\n",
        "test_l_data_orig = np.copy(test_l)\n",
        "test_h_data_orig = np.copy(test_h)\n",
        "\n",
        "for i in range(num_runs):\n",
        "    print(f\"\\nRun {i+1}/{num_runs}\")\n",
        "    #seed differente ma prevedibile\n",
        "    current_seed = seed + i\n",
        "    frac_l, frac_h = trainEvaluate(\n",
        "        train_data_orig,\n",
        "        validation_data_orig,\n",
        "        test_l_data_orig,\n",
        "        test_h_data_orig,\n",
        "        batch_size=64,\n",
        "        epochs=300,\n",
        "        learning_rate=0.0008042910826443865,\n",
        "        weight_decay=1.3494732750268131e-05,\n",
        "        seed=current_seed\n",
        "    )\n",
        "    estimated_fractions_l.append(frac_l)\n",
        "    estimated_fractions_h.append(frac_h)\n",
        "\n",
        "print(\"\\nFinito.\")\n",
        "\n",
        "mean_frac_l = np.mean(estimated_fractions_l)\n",
        "std_frac_l = np.std(estimated_fractions_l)\n",
        "\n",
        "mean_frac_h = np.mean(estimated_fractions_h)\n",
        "std_frac_h = np.std(estimated_fractions_h)\n",
        "\n",
        "print(f\"\\nFrazione anomalie Low): {mean_frac_l:.4f} ± {std_frac_l:.4f}\")\n",
        "print(f\"Frazione anomalie High: {mean_frac_h:.4f} ± {std_frac_h:.4f}\")\n",
        "\n",
        "#un istogramma\n",
        "plt.figure(figsize=(10, 5))\n",
        "plt.hist(estimated_fractions_l, bins=10, alpha=0.7, label='Low')\n",
        "plt.hist(estimated_fractions_h, bins=10, alpha=0.7, label='High')\n",
        "plt.xlabel('Frazione di anomalie stimata')\n",
        "plt.ylabel('Frequenza')\n",
        "plt.title('Distrbuzione delle frazioni di anomalie')\n",
        "plt.legend()\n",
        "plt.savefig('frazioni_anomalie.png')\n",
        "plt.show()"
      ],
      "metadata": {
        "id": "A4n0MvpN5hq6",
        "colab": {
          "base_uri": "https://localhost:8080/",
          "height": 934
        },
        "outputId": "b972b49c-df49-41ad-d456-518239677312"
      },
      "execution_count": null,
      "outputs": [
        {
          "output_type": "stream",
          "name": "stdout",
          "text": [
            "\n",
            "Run 1/10\n",
            "\n",
            "Run 2/10\n",
            "\n",
            "Run 3/10\n",
            "\n",
            "Run 4/10\n",
            "\n",
            "Run 5/10\n",
            "\n",
            "Run 6/10\n",
            "\n",
            "Run 7/10\n",
            "\n",
            "Run 8/10\n",
            "\n",
            "Run 9/10\n",
            "\n",
            "Run 10/10\n",
            "\n",
            "Finito.\n",
            "\n",
            "Frazione anomalie Low): 0.4373 ± 0.0059\n",
            "Frazione anomalie High: 0.9183 ± 0.0033\n"
          ]
        },
        {
          "output_type": "display_data",
          "data": {
            "text/plain": [
              "<Figure size 1000x500 with 1 Axes>"
            ],
            "image/png": "[encoded data removed]"
          },
          "metadata": {}
        }
      ]
    }
  ]
}